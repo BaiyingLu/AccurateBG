{
 "cells": [
  {
   "cell_type": "code",
   "execution_count": 1,
   "metadata": {},
   "outputs": [],
   "source": [
    "import argparse\n",
    "import json\n",
    "import os\n",
    "import pandas as pd\n",
    "import os\n",
    "\n",
    "import datetime\n",
    "import numpy as np"
   ]
  },
  {
   "cell_type": "code",
   "execution_count": 2,
   "metadata": {},
   "outputs": [
    {
     "name": "stdout",
     "output_type": "stream",
     "text": [
      "['559.txt', '563.txt', '570.txt', '575.txt', '588.txt', '591.txt', 'errors.txt']\n"
     ]
    }
   ],
   "source": [
    "\n",
    "# List all files and directories in the current directory\n",
    "files_and_directories = os.listdir('.')\n",
    "\n",
    "# Filter for files that end with .txt\n",
    "txt_files = [file for file in files_and_directories if file.endswith('.txt')]\n",
    "\n",
    "print(txt_files)\n"
   ]
  },
  {
   "cell_type": "code",
   "execution_count": 3,
   "metadata": {},
   "outputs": [],
   "source": [
    "# Read the data from the text file\n",
    "def calcuate_rmse(file):\n",
    "    data = np.loadtxt(file)  # Make sure to replace 'data.txt' with your actual file path\n",
    "    print(file)\n",
    "    # Splitting the data into groundtruth and predictions\n",
    "    groundtruth = data[:, 0]  # First column as ground truth (also same as third column)\n",
    "    predictions_1 = data[:, 1]  # Second column as predictions from method 1\n",
    "    predictions_2 = data[:, 3]  # Fourth column as predictions from method 2\n",
    "\n",
    "    # Function to calculate RMSE\n",
    "    def calculate_rmse(true_values, predictions):\n",
    "        mse = np.mean((true_values - predictions) ** 2)\n",
    "        rmse = np.sqrt(mse)\n",
    "        return rmse\n",
    "\n",
    "    # Calculate RMSE for each method\n",
    "    rmse_method_1 = calculate_rmse(groundtruth, predictions_1)\n",
    "    rmse_method_2 = calculate_rmse(groundtruth, predictions_2)\n",
    "\n",
    "    print(\"RMSE for Method 1:\", rmse_method_1)\n",
    "    print(\"RMSE for Method 2:\", rmse_method_2)\n",
    "    return rmse_method_1\n"
   ]
  },
  {
   "cell_type": "code",
   "execution_count": 4,
   "metadata": {},
   "outputs": [
    {
     "name": "stdout",
     "output_type": "stream",
     "text": [
      "559.txt\n",
      "RMSE for Method 1: 0.20099116027595731\n",
      "RMSE for Method 2: 0.19155109437436058\n",
      "0.20099116027595731\n",
      "563.txt\n",
      "RMSE for Method 1: 0.19312748490677883\n",
      "RMSE for Method 2: 0.18448570031733827\n",
      "0.19312748490677883\n",
      "570.txt\n",
      "RMSE for Method 1: 0.17444549568325582\n",
      "RMSE for Method 2: 0.16276176162728853\n",
      "0.17444549568325582\n",
      "575.txt\n",
      "RMSE for Method 1: 0.2331239392557767\n",
      "RMSE for Method 2: 0.23357590381043766\n",
      "0.2331239392557767\n",
      "588.txt\n",
      "RMSE for Method 1: 0.19240513812954485\n",
      "RMSE for Method 2: 0.19143511627610438\n",
      "0.19240513812954485\n",
      "591.txt\n",
      "RMSE for Method 1: 0.21551379008358415\n",
      "RMSE for Method 2: 0.20919745709280052\n",
      "0.21551379008358415\n",
      "0.20160116805581627\n"
     ]
    }
   ],
   "source": [
    "rmse_list = []\n",
    "for f in txt_files[:-1]:\n",
    "    rmse1 = calcuate_rmse(f)\n",
    "    print(rmse1)\n",
    "    rmse_list.append(rmse1)\n",
    "\n",
    "print(np.average(rmse_list))"
   ]
  },
  {
   "cell_type": "code",
   "execution_count": 14,
   "metadata": {},
   "outputs": [
    {
     "data": {
      "text/plain": [
       "[0.19798874292953156,\n",
       " 0.26316687110124054,\n",
       " 0.32157294566367234,\n",
       " 0.19015158029527832,\n",
       " 0.18795009053217682,\n",
       " 0.22211261532858606,\n",
       " 0.21489309700006115,\n",
       " 0.2876550649399277,\n",
       " 0.23216488260401758]"
      ]
     },
     "execution_count": 14,
     "metadata": {},
     "output_type": "execute_result"
    }
   ],
   "source": [
    "rmse_list"
   ]
  },
  {
   "cell_type": "code",
   "execution_count": null,
   "metadata": {},
   "outputs": [],
   "source": []
  }
 ],
 "metadata": {
  "kernelspec": {
   "display_name": "Python 3",
   "language": "python",
   "name": "python3"
  },
  "language_info": {
   "codemirror_mode": {
    "name": "ipython",
    "version": 3
   },
   "file_extension": ".py",
   "mimetype": "text/x-python",
   "name": "python",
   "nbconvert_exporter": "python",
   "pygments_lexer": "ipython3",
   "version": "3.10.5"
  }
 },
 "nbformat": 4,
 "nbformat_minor": 2
}
