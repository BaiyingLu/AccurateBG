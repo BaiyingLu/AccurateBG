{
 "cells": [
  {
   "cell_type": "code",
   "execution_count": 1,
   "metadata": {},
   "outputs": [],
   "source": [
    "import argparse\n",
    "import json\n",
    "import os\n",
    "import pandas as pd\n",
    "import os\n",
    "\n",
    "import datetime\n",
    "import numpy as np"
   ]
  },
  {
   "cell_type": "code",
   "execution_count": 6,
   "metadata": {},
   "outputs": [
    {
     "name": "stdout",
     "output_type": "stream",
     "text": [
      "['1051.txt', '1185.txt', '1261.txt', '191.txt', '390.txt', '515.txt', '63.txt', '648.txt', '852.txt', 'errors.txt']\n"
     ]
    }
   ],
   "source": [
    "\n",
    "# List all files and directories in the current directory\n",
    "files_and_directories = os.listdir('.')\n",
    "\n",
    "# Filter for files that end with .txt\n",
    "txt_files = [file for file in files_and_directories if file.endswith('.txt')]\n",
    "\n",
    "print(txt_files)\n"
   ]
  },
  {
   "cell_type": "code",
   "execution_count": 7,
   "metadata": {},
   "outputs": [],
   "source": [
    "# Read the data from the text file\n",
    "def calcuate_rmse(file):\n",
    "    data = np.loadtxt(file)  # Make sure to replace 'data.txt' with your actual file path\n",
    "    print(file)\n",
    "    # Splitting the data into groundtruth and predictions\n",
    "    groundtruth = data[:, 0]  # First column as ground truth (also same as third column)\n",
    "    predictions_1 = data[:, 1]  # Second column as predictions from method 1\n",
    "    predictions_2 = data[:, 3]  # Fourth column as predictions from method 2\n",
    "\n",
    "    # Function to calculate RMSE\n",
    "    def calculate_rmse(true_values, predictions):\n",
    "        mse = np.mean((true_values - predictions) ** 2)\n",
    "        rmse = np.sqrt(mse)\n",
    "        return rmse\n",
    "\n",
    "    # Calculate RMSE for each method\n",
    "    rmse_method_1 = calculate_rmse(groundtruth, predictions_1)\n",
    "    rmse_method_2 = calculate_rmse(groundtruth, predictions_2)\n",
    "\n",
    "    print(\"RMSE for Method 1:\", rmse_method_1)\n",
    "    print(\"RMSE for Method 2:\", rmse_method_2)\n",
    "    return rmse_method_1\n"
   ]
  },
  {
   "cell_type": "code",
   "execution_count": 8,
   "metadata": {},
   "outputs": [
    {
     "name": "stdout",
     "output_type": "stream",
     "text": [
      "1051.txt\n",
      "RMSE for Method 1: 0.4442219389541696\n",
      "RMSE for Method 2: 0.421026308426381\n",
      "0.4442219389541696\n",
      "1185.txt\n",
      "RMSE for Method 1: 0.27167295444306594\n",
      "RMSE for Method 2: 0.2885114905604967\n",
      "0.27167295444306594\n",
      "1261.txt\n",
      "RMSE for Method 1: 0.3259050523574367\n",
      "RMSE for Method 2: 0.32295769446514117\n",
      "0.3259050523574367\n",
      "191.txt\n",
      "RMSE for Method 1: 0.3366951927824473\n",
      "RMSE for Method 2: 0.3180324594085613\n",
      "0.3366951927824473\n",
      "390.txt\n",
      "RMSE for Method 1: 0.2686842375324468\n",
      "RMSE for Method 2: 0.2566391017992918\n",
      "0.2686842375324468\n",
      "515.txt\n",
      "RMSE for Method 1: 0.302924631621387\n",
      "RMSE for Method 2: 0.29874102366678146\n",
      "0.302924631621387\n",
      "63.txt\n",
      "RMSE for Method 1: 0.18184609196749088\n",
      "RMSE for Method 2: 0.1831483974476607\n",
      "0.18184609196749088\n",
      "648.txt\n",
      "RMSE for Method 1: 0.3265623494241925\n",
      "RMSE for Method 2: 0.3169140264964577\n",
      "0.3265623494241925\n",
      "852.txt\n",
      "RMSE for Method 1: 0.354518547479621\n",
      "RMSE for Method 2: 0.3328273609954782\n",
      "0.354518547479621\n",
      "0.31255899961802863\n"
     ]
    }
   ],
   "source": [
    "rmse_list = []\n",
    "for f in txt_files[:-1]:\n",
    "    rmse1 = calcuate_rmse(f)\n",
    "    print(rmse1)\n",
    "    rmse_list.append(rmse1)\n",
    "\n",
    "print(np.average(rmse_list))"
   ]
  },
  {
   "cell_type": "code",
   "execution_count": 9,
   "metadata": {},
   "outputs": [
    {
     "data": {
      "text/plain": [
       "[0.4442219389541696,\n",
       " 0.27167295444306594,\n",
       " 0.3259050523574367,\n",
       " 0.3366951927824473,\n",
       " 0.2686842375324468,\n",
       " 0.302924631621387,\n",
       " 0.18184609196749088,\n",
       " 0.3265623494241925,\n",
       " 0.354518547479621]"
      ]
     },
     "execution_count": 9,
     "metadata": {},
     "output_type": "execute_result"
    }
   ],
   "source": [
    "rmse_list"
   ]
  },
  {
   "cell_type": "code",
   "execution_count": null,
   "metadata": {},
   "outputs": [],
   "source": []
  }
 ],
 "metadata": {
  "kernelspec": {
   "display_name": "Python 3",
   "language": "python",
   "name": "python3"
  },
  "language_info": {
   "codemirror_mode": {
    "name": "ipython",
    "version": 3
   },
   "file_extension": ".py",
   "mimetype": "text/x-python",
   "name": "python",
   "nbconvert_exporter": "python",
   "pygments_lexer": "ipython3",
   "version": "3.10.5"
  }
 },
 "nbformat": 4,
 "nbformat_minor": 2
}
