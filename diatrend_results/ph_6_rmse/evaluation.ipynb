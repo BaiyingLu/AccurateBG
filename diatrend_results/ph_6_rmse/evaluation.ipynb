{
 "cells": [
  {
   "cell_type": "code",
   "execution_count": 2,
   "metadata": {},
   "outputs": [],
   "source": [
    "import argparse\n",
    "import json\n",
    "import os\n",
    "import pandas as pd\n",
    "import os\n",
    "\n",
    "import datetime\n",
    "import numpy as np"
   ]
  },
  {
   "cell_type": "code",
   "execution_count": 3,
   "metadata": {},
   "outputs": [
    {
     "name": "stdout",
     "output_type": "stream",
     "text": [
      "['errors.txt', 'Subject1.txt', 'Subject10.txt', 'Subject11.txt', 'Subject12.txt', 'Subject13.txt', 'Subject14.txt', 'Subject15.txt', 'Subject16.txt', 'Subject17.txt']\n"
     ]
    }
   ],
   "source": [
    "\n",
    "# List all files and directories in the current directory\n",
    "files_and_directories = os.listdir('.')\n",
    "\n",
    "# Filter for files that end with .txt\n",
    "txt_files = [file for file in files_and_directories if file.endswith('.txt')]\n",
    "\n",
    "print(txt_files)\n"
   ]
  },
  {
   "cell_type": "code",
   "execution_count": 10,
   "metadata": {},
   "outputs": [],
   "source": [
    "# Read the data from the text file\n",
    "def calcuate_rmse(file):\n",
    "    data = np.loadtxt(file)  # Make sure to replace 'data.txt' with your actual file path\n",
    "    print(file)\n",
    "    # Splitting the data into groundtruth and predictions\n",
    "    groundtruth = data[:, 0]  # First column as ground truth (also same as third column)\n",
    "    predictions_1 = data[:, 1]  # Second column as predictions from method 1\n",
    "    predictions_2 = data[:, 3]  # Fourth column as predictions from method 2\n",
    "\n",
    "    # Function to calculate RMSE\n",
    "    def calculate_rmse(true_values, predictions):\n",
    "        mse = np.mean((true_values - predictions) ** 2)\n",
    "        rmse = np.sqrt(mse)\n",
    "        return rmse\n",
    "\n",
    "    # Calculate RMSE for each method\n",
    "    rmse_method_1 = calculate_rmse(groundtruth, predictions_1)\n",
    "    rmse_method_2 = calculate_rmse(groundtruth, predictions_2)\n",
    "\n",
    "    print(\"RMSE for Method 1:\", rmse_method_1)\n",
    "    print(\"RMSE for Method 2:\", rmse_method_2)\n",
    "    return rmse_method_1\n"
   ]
  },
  {
   "cell_type": "code",
   "execution_count": 11,
   "metadata": {},
   "outputs": [
    {
     "data": {
      "text/plain": [
       "['Subject1.txt',\n",
       " 'Subject10.txt',\n",
       " 'Subject11.txt',\n",
       " 'Subject12.txt',\n",
       " 'Subject13.txt',\n",
       " 'Subject14.txt',\n",
       " 'Subject15.txt',\n",
       " 'Subject16.txt',\n",
       " 'Subject17.txt']"
      ]
     },
     "execution_count": 11,
     "metadata": {},
     "output_type": "execute_result"
    }
   ],
   "source": [
    "txt_files[1:]"
   ]
  },
  {
   "cell_type": "code",
   "execution_count": 13,
   "metadata": {},
   "outputs": [
    {
     "name": "stdout",
     "output_type": "stream",
     "text": [
      "Subject1.txt\n",
      "RMSE for Method 1: 0.19798874292953156\n",
      "RMSE for Method 2: 0.19932284510284384\n",
      "0.19798874292953156\n",
      "Subject10.txt\n",
      "RMSE for Method 1: 0.26316687110124054\n",
      "RMSE for Method 2: 0.26235906070174614\n",
      "0.26316687110124054\n",
      "Subject11.txt\n",
      "RMSE for Method 1: 0.32157294566367234\n",
      "RMSE for Method 2: 0.31468376000190545\n",
      "0.32157294566367234\n",
      "Subject12.txt\n",
      "RMSE for Method 1: 0.19015158029527832\n",
      "RMSE for Method 2: 0.19532378696138827\n",
      "0.19015158029527832\n",
      "Subject13.txt\n",
      "RMSE for Method 1: 0.18795009053217682\n",
      "RMSE for Method 2: 0.1940577155392146\n",
      "0.18795009053217682\n",
      "Subject14.txt\n",
      "RMSE for Method 1: 0.22211261532858606\n",
      "RMSE for Method 2: 0.2243529880854887\n",
      "0.22211261532858606\n",
      "Subject15.txt\n",
      "RMSE for Method 1: 0.21489309700006115\n",
      "RMSE for Method 2: 0.22285591074440397\n",
      "0.21489309700006115\n",
      "Subject16.txt\n",
      "RMSE for Method 1: 0.2876550649399277\n",
      "RMSE for Method 2: 0.29863689706521723\n",
      "0.2876550649399277\n",
      "Subject17.txt\n",
      "RMSE for Method 1: 0.23216488260401758\n",
      "RMSE for Method 2: 0.22608666178231143\n",
      "0.23216488260401758\n",
      "0.23529509893272132\n"
     ]
    }
   ],
   "source": [
    "rmse_list = []\n",
    "for f in txt_files[1:]:\n",
    "    rmse1 = calcuate_rmse(f)\n",
    "    print(rmse1)\n",
    "    rmse_list.append(rmse1)\n",
    "\n",
    "print(np.average(rmse_list))"
   ]
  },
  {
   "cell_type": "code",
   "execution_count": 14,
   "metadata": {},
   "outputs": [
    {
     "data": {
      "text/plain": [
       "[0.19798874292953156,\n",
       " 0.26316687110124054,\n",
       " 0.32157294566367234,\n",
       " 0.19015158029527832,\n",
       " 0.18795009053217682,\n",
       " 0.22211261532858606,\n",
       " 0.21489309700006115,\n",
       " 0.2876550649399277,\n",
       " 0.23216488260401758]"
      ]
     },
     "execution_count": 14,
     "metadata": {},
     "output_type": "execute_result"
    }
   ],
   "source": [
    "rmse_list"
   ]
  },
  {
   "cell_type": "code",
   "execution_count": null,
   "metadata": {},
   "outputs": [],
   "source": []
  }
 ],
 "metadata": {
  "kernelspec": {
   "display_name": "Python 3",
   "language": "python",
   "name": "python3"
  },
  "language_info": {
   "codemirror_mode": {
    "name": "ipython",
    "version": 3
   },
   "file_extension": ".py",
   "mimetype": "text/x-python",
   "name": "python",
   "nbconvert_exporter": "python",
   "pygments_lexer": "ipython3",
   "version": "3.10.5"
  }
 },
 "nbformat": 4,
 "nbformat_minor": 2
}
